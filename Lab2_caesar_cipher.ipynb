{
 "cells": [
  {
   "cell_type": "markdown",
   "id": "1b0c6bd5",
   "metadata": {},
   "source": [
    "# Lab 2 Caesar Cipher \n",
    "In this lab we will create a very basic encrypting algoritm called Caesar's Cipher \n",
    "You will encrypt a text with and also try to decipher an encrypted text.\n",
    "\n",
    "Open a new file in your Spyder editor and write code for each step. Save your py file and name it as caesar_encryption_program.py\n",
    "Remember you can test your code lines with F9 (run current line/selection in Spyder)"
   ]
  },
  {
   "cell_type": "markdown",
   "id": "84b0b130",
   "metadata": {},
   "source": [
    "1) Make a variable called shift_value and assign a value to it. You decide a value between 1 and 25 (keep it secret for your neighbor students)\n",
    "2) Create a variable called text with the content below. This will be the text to encrypt."
   ]
  },
  {
   "cell_type": "code",
   "execution_count": null,
   "id": "7fdc0f3a",
   "metadata": {},
   "outputs": [],
   "source": [
    "text='pandas is a fast, powerful, flexible and easy to use open source data analysis and manipulation tool,\n",
    "built on top of the Python programming language.'"
   ]
  },
  {
   "cell_type": "markdown",
   "id": "b888c94d",
   "metadata": {},
   "source": [
    "3) Highlight your two lines of code and run them in Spyder with F9. You should see the variables to the right and have a str called text and an int called shift_value"
   ]
  },
  {
   "cell_type": "markdown",
   "id": "eb578e0d",
   "metadata": {},
   "source": [
    "4) Prepare and clean your text variable.\n",
    "Please remove all special characters like dot and comma (use the replace function for this)\n",
    "You also need to make all letters in your text lowercase\n",
    "Remember to overwrite your text variable, so it's lowercase and only consists of spaces and letters between a a and z\n"
   ]
  },
  {
   "cell_type": "markdown",
   "id": "e87b008a",
   "metadata": {},
   "source": [
    "5) Make a variable called letter list with the letters from a to z\n",
    "Tip: Use a list comprehension to create it\n",
    "Use the ord function on a and z to generate the range\n"
   ]
  },
  {
   "cell_type": "markdown",
   "id": "34de1c8e",
   "metadata": {},
   "source": [
    "6) Use the in operator to check that 'a' and 'z' are on your list (use and to combine the two boolean expressions)"
   ]
  },
  {
   "cell_type": "markdown",
   "id": "35a9512c",
   "metadata": {},
   "source": [
    "7) Find the index for 'a'"
   ]
  },
  {
   "cell_type": "markdown",
   "id": "a41f845d",
   "metadata": {},
   "source": [
    "8) Find the letter which has shift_value as index"
   ]
  },
  {
   "cell_type": "markdown",
   "id": "bf2e384c",
   "metadata": {},
   "source": [
    "9) Use slicing to generate a new variable called shifted_letterlist\n",
    "The list should contain the letter from step 7 as element 0 and then continue with letters up to z.Then continue with 'a','b' etc, which you can grab with this expression letter_list[0:shift_value]  \n",
    "Tip: you can put two list together and create a new list with the + operator\n"
   ]
  },
  {
   "cell_type": "markdown",
   "id": "a3486b9d",
   "metadata": {},
   "source": [
    "10) Now use the zip function to zip the letter_list and the letters_shifted to gether"
   ]
  },
  {
   "cell_type": "markdown",
   "id": "81805911",
   "metadata": {},
   "source": [
    "11. Use the dict function on your zip object to create a dictionary and save it in a variable called encrypt_dict"
   ]
  },
  {
   "cell_type": "markdown",
   "id": "ff7f7030",
   "metadata": {},
   "source": [
    "12) Add space to your dictionary. Space should just be encrypted as a space\n",
    "You add an item to a dictionary by specifying the key k and the value v e.g mydict[k]=v"
   ]
  },
  {
   "cell_type": "markdown",
   "id": "a66ec0db",
   "metadata": {},
   "source": [
    "12) Encrypt your text with a list comprehension such that you get a list called text_encrypted_list for all letters in the text but with the encrypted value from the dictionary"
   ]
  },
  {
   "cell_type": "markdown",
   "id": "ead6bbfe",
   "metadata": {},
   "source": [
    "13) Put the letters from the text_encrypted_list together to form a string. Use the str.join method for this ''.join(iterable)"
   ]
  },
  {
   "cell_type": "markdown",
   "id": "def70180",
   "metadata": {},
   "source": [
    "Extra"
   ]
  },
  {
   "cell_type": "markdown",
   "id": "d1d69626",
   "metadata": {},
   "source": [
    "14) Decrypt the encrypted text with a brute force attack. Try all shift combinations in a for loop until you get something readable. Break out of the code with the break statement. Can we decrypt it by just assuming that 'the' and 'is' and 'and' is in the decrypted text?"
   ]
  },
  {
   "cell_type": "markdown",
   "id": "f196b37b",
   "metadata": {},
   "source": []
  },
  {
   "cell_type": "markdown",
   "id": "dc116ddb",
   "metadata": {},
   "source": [
    "15. Decrypt the encrypted text file found in the document in the September2025 folder in Onedrive. You may open the file with Python. There may be some special characters to handle also. Just write them as they are."
   ]
  }
 ],
 "metadata": {
  "language_info": {
   "name": "python"
  }
 },
 "nbformat": 4,
 "nbformat_minor": 5
}
