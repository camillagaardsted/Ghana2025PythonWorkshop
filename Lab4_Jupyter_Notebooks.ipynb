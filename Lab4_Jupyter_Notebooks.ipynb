{
 "cells": [
  {
   "cell_type": "markdown",
   "id": "0dc50735",
   "metadata": {},
   "source": [
    "## Lab 4 Jupyter Notebooks in VS Code\n",
    "\n",
    "# Exercise 1 Creating a markdown cell\n",
    "\n",
    "a) Open your PandasProject folder in VS Code\n",
    "\n",
    "b) Create a new file called demo_notebook.ipynb\n",
    "\n",
    "c) Add a markdown cell to your notebook and write `## Demo notebook` The double hashtag means a header\n",
    "\n",
    "d)  Add a line where you write `# Example 1` The single hashtag is a minor header\n",
    "\n",
    "e) Add a line where you write `This notebook will demonstrate some python code, where we use pandas`\n",
    " \n",
    "f) Click on the correct check icon in the top right side of the cell. This should display your markdown text in a pretty way."
   ]
  },
  {
   "cell_type": "markdown",
   "id": "6ef2e018",
   "metadata": {},
   "source": [
    "# Exercise 2\n",
    "\n",
    "Now it's time to add some code to our notebook\n",
    "\n",
    "a) Add a code cell below the markdown cell with the following code:"
   ]
  },
  {
   "cell_type": "code",
   "execution_count": null,
   "id": "7d9da18e",
   "metadata": {
    "vscode": {
     "languageId": "plaintext"
    }
   },
   "outputs": [],
   "source": [
    "import pandas as py\n",
    "print(pd.__version__)"
   ]
  },
  {
   "cell_type": "markdown",
   "id": "863fc26b",
   "metadata": {},
   "source": [
    "b) Try to execute the code cell with the play button. Select the .venv environment.\n",
    " VS Code will tell you that you need the ipykernel package. Choose yes to install the package. It takes a while.\n",
    "\n",
    "c) Unfold the packages in the Python environment workspace and see all the packages which are now installed in your virtual environment.\n",
    "\n",
    "d) When the installation has finished - try to run the code cell again with the play button."
   ]
  },
  {
   "cell_type": "markdown",
   "id": "ad3edd0b",
   "metadata": {},
   "source": [
    "# Exercise 3 Jupyter Notebooks in Spyder\n",
    "\n",
    "Spyder also has the possibility to run notebooks.\n",
    "\n",
    "a) Install the extension for Spyder with the command below. You should do this for the base conda environment in the conda navigator.\n"
   ]
  },
  {
   "cell_type": "code",
   "execution_count": null,
   "id": "7c437a39",
   "metadata": {
    "vscode": {
     "languageId": "plaintext"
    }
   },
   "outputs": [],
   "source": [
    "conda install spyder-notebook -c conda-forge"
   ]
  },
  {
   "cell_type": "markdown",
   "id": "cbd2a7e1",
   "metadata": {},
   "source": [
    "b) Open the notebook from Exercise 2 in Spyder and try to execute the code"
   ]
  },
  {
   "cell_type": "markdown",
   "id": "8c63d87d",
   "metadata": {},
   "source": [
    "# Exercise 4 Jupyter Notebook application from Anaconda\n",
    "\n",
    "Finally if you have an Anaconda installation. You will also have Jupyter Notebooks installed as an application.\n",
    "Type Jupyter in your Windows search icon. It will show Jupyter Notebook. Run it and try to create a notebook there. "
   ]
  }
 ],
 "metadata": {
  "language_info": {
   "name": "python"
  }
 },
 "nbformat": 4,
 "nbformat_minor": 5
}
