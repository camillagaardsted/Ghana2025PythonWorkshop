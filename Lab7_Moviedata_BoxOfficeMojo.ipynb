{
 "cells": [
  {
   "cell_type": "markdown",
   "id": "ae7de419",
   "metadata": {},
   "source": [
    "# Lab 7 Reading moviedata from boxofficemojo.com\n",
    "\n",
    "## Exercise 1 Fetch the data from csv or from the webpage\n",
    "a) Define a variable called year and assign it the value 2025\n",
    "\n",
    "b) Concatenate the url https://www.boxofficemojo.com/year/ with the value of the year variable, so you get the url https://www.boxofficemojo.com/year/2025\n",
    "\n",
    "c) Now read data from the url with the pandas read_html function. Remember it gives you a list of DataFrames, so look at the first one in the list and save that as your df.\n",
    "\n",
    "d) Finally display your dataframe with should contains movie data for 2025."
   ]
  },
  {
   "cell_type": "code",
   "execution_count": null,
   "id": "ae547925",
   "metadata": {},
   "outputs": [],
   "source": []
  },
  {
   "cell_type": "markdown",
   "id": "8705cfd6",
   "metadata": {},
   "source": [
    "e) Display the columns for your DataFrame"
   ]
  },
  {
   "cell_type": "code",
   "execution_count": null,
   "id": "efcdeb27",
   "metadata": {},
   "outputs": [],
   "source": []
  },
  {
   "cell_type": "markdown",
   "id": "2072b039",
   "metadata": {},
   "source": [
    "f) Overwrite your df to only include the following columns: Release, Gross, Total Gross, Release Date and Distributor. Note you can just copy-paste from the output above, so you don't have to type all the column names."
   ]
  },
  {
   "cell_type": "code",
   "execution_count": null,
   "id": "b8ac1a54",
   "metadata": {},
   "outputs": [],
   "source": []
  },
  {
   "cell_type": "markdown",
   "id": "34d49d11",
   "metadata": {},
   "source": [
    "g) Study your datatypes for the DataFrame with the info method. Most of them are object and we don't like that. Especially not for the ones which are numbers."
   ]
  },
  {
   "cell_type": "code",
   "execution_count": null,
   "id": "6bf0d9ac",
   "metadata": {},
   "outputs": [],
   "source": []
  },
  {
   "cell_type": "markdown",
   "id": "dc8e148b",
   "metadata": {},
   "source": [
    "h) Gross and Total Gross should be numbers. Remove the $ sign and convert to numbers. Please use the Int32 dtype."
   ]
  },
  {
   "cell_type": "code",
   "execution_count": null,
   "id": "d967815a",
   "metadata": {},
   "outputs": [],
   "source": []
  },
  {
   "cell_type": "markdown",
   "id": "ea822cef",
   "metadata": {},
   "source": [
    "i) Convert the Theaters column to Int32 as well."
   ]
  },
  {
   "cell_type": "code",
   "execution_count": null,
   "id": "576ee876",
   "metadata": {},
   "outputs": [],
   "source": []
  },
  {
   "cell_type": "markdown",
   "id": "47a0d264",
   "metadata": {},
   "source": [
    "j) Study the dtypes again with the info method. Now do something about the object type for the Release Date. We only have month and day for the release date, but we now the year from the year variable. Combine this into a column with the date written as text.\n",
    "\n",
    "k) Finally convert it into a date using the pd.to_datetime function. Use the formatting codes from standard Python e.g. %Y etc. Remember to make a date and not just a datetime.\n",
    "\n",
    "Any students with another language than English on the macine might need to set the language with this code: "
   ]
  },
  {
   "cell_type": "code",
   "execution_count": null,
   "id": "50996d86",
   "metadata": {},
   "outputs": [],
   "source": [
    "\n",
    "import locale\n",
    "locale.getlocale()\n",
    "# only necessary to run next code line if you do not have English_US\n",
    "#locale.setlocale(locale.LC_ALL,locale='English_US')"
   ]
  },
  {
   "cell_type": "code",
   "execution_count": null,
   "id": "cdfb90ef",
   "metadata": {},
   "outputs": [],
   "source": []
  },
  {
   "cell_type": "code",
   "execution_count": null,
   "id": "729ff7cc",
   "metadata": {},
   "outputs": [],
   "source": []
  },
  {
   "cell_type": "code",
   "execution_count": null,
   "id": "138327c9",
   "metadata": {},
   "outputs": [],
   "source": []
  },
  {
   "cell_type": "markdown",
   "id": "b800044d",
   "metadata": {},
   "source": [
    "l) Rename the Release column to Title and make sure it has string and not object as dtype. You need the rename method with a dictionary inside and remember to specify the axis parameter."
   ]
  },
  {
   "cell_type": "code",
   "execution_count": null,
   "id": "394c97f1",
   "metadata": {},
   "outputs": [],
   "source": []
  },
  {
   "cell_type": "markdown",
   "id": "3cd9c3a5",
   "metadata": {},
   "source": [
    "m) Study the different values for Distributor with the function value_counts. There are only 57 different options.\n",
    "\n",
    "n) Make this column with the Category dtype. \n",
    "\n",
    "o) Finally display your DataFrame and consider whether the data looks good now\n"
   ]
  },
  {
   "cell_type": "code",
   "execution_count": null,
   "id": "888e34ba",
   "metadata": {},
   "outputs": [],
   "source": []
  },
  {
   "cell_type": "markdown",
   "id": "a55dee45",
   "metadata": {},
   "source": [
    "EXTRA\n",
    "\n",
    "p) If you have time - you may fetch moviedata for all years between 1977 and 2025. You can read the data from the csv files instead of fetching them from the webpage.\n",
    "You will need to concat all the dataframes and to the transformations before or after the concatenation."
   ]
  }
 ],
 "metadata": {
  "kernelspec": {
   "display_name": "Python 3",
   "language": "python",
   "name": "python3"
  },
  "language_info": {
   "codemirror_mode": {
    "name": "ipython",
    "version": 3
   },
   "file_extension": ".py",
   "mimetype": "text/x-python",
   "name": "python",
   "nbconvert_exporter": "python",
   "pygments_lexer": "ipython3",
   "version": "3.11.1"
  }
 },
 "nbformat": 4,
 "nbformat_minor": 5
}
