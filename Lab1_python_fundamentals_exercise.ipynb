{
 "cells": [
  {
   "cell_type": "markdown",
   "id": "d81f8282",
   "metadata": {},
   "source": [
    "# Lab 1 Python Fundamentals \n",
    "This notebook contains exercises with variables, the collections and comprehensions in Python. The if and while statement will also be used."
   ]
  },
  {
   "cell_type": "markdown",
   "id": "a3c37cc1",
   "metadata": {},
   "source": [
    "# Exercise 1 Python Fundamentals - warming up with variables\n",
    " \n",
    "Open/copy-paste this code into the Spyder editor\n",
    "* a) What will be the datatypes for the variables below? Consider your answer before you run the code in Spyder"
   ]
  },
  {
   "cell_type": "code",
   "execution_count": null,
   "id": "8327f7ec",
   "metadata": {},
   "outputs": [],
   "source": [
    "name = 'Donald Trump'\n",
    "age= 79\n",
    "likes_Bruce_Springsteen = False\n",
    "bigmac_price_in_us_in_dollars = 5.79\n",
    "sql_connection = None\n",
    "month=9\n",
    "month='September'\n",
    "\n"
   ]
  },
  {
   "cell_type": "markdown",
   "id": "80853a08",
   "metadata": {},
   "source": [
    "# Exercise 2 Lists with strings\n",
    "* a) The two colors in the Danish flag are red and white. We put them in a list below. Create a similar list for Ghana's flag\n"
   ]
  },
  {
   "cell_type": "code",
   "execution_count": null,
   "id": "9f587ef7",
   "metadata": {},
   "outputs": [],
   "source": [
    "denmark_flag_colors=['red','white']\n",
    "ghana_flag_colors= # TODO"
   ]
  },
  {
   "cell_type": "markdown",
   "id": "cd16b14b",
   "metadata": {},
   "source": [
    "* b) find the overlapping colors for the two lists. Tip: Convert the two lists to set and use \n",
    "the & operator"
   ]
  },
  {
   "cell_type": "code",
   "execution_count": null,
   "id": "0974eb51",
   "metadata": {},
   "outputs": [],
   "source": [
    "# TODO"
   ]
  },
  {
   "cell_type": "markdown",
   "id": "9a5a9079",
   "metadata": {},
   "source": [
    "* c) Write an if statement which tells which flag has the most colors. You count the number of elements in a list with the len function. Use elif logic to handle all 3 possibilities."
   ]
  },
  {
   "cell_type": "code",
   "execution_count": null,
   "id": "04ceeef2",
   "metadata": {},
   "outputs": [],
   "source": [
    "# TODO"
   ]
  },
  {
   "cell_type": "markdown",
   "id": "d2ae2d15",
   "metadata": {},
   "source": [
    "Working and manipulating with a list \n",
    "* d) Copy the ghana_flag_colors to a new list called colors.\n",
    "* e) Add the two denmark_flag_colors to the color list with append\n",
    "* f) You can remove an element with the remove method if you accidentally got a list on your list \n",
    "* Now add the elements from the list again but this time with extend\n",
    "* g) Lookup item 2 on your color list and prefix the name with the text 'light'\n",
    "* h) Sort the list alphabetically\n",
    "* i) Use slicing to show the last 3 items on your color list\n"
   ]
  },
  {
   "cell_type": "code",
   "execution_count": null,
   "id": "d6f209c3",
   "metadata": {},
   "outputs": [],
   "source": [
    "# TODO ad to i"
   ]
  },
  {
   "cell_type": "markdown",
   "id": "58e528f0",
   "metadata": {},
   "source": [
    "# Exercise 3 Using list comprehensions\n",
    "* a) Generate a list with all years between 2000 and 2025 (just hardcode 2025)\n",
    "* b) Generate a list with the summer olympic years from 1970 to 2024 - You need to take into account that 2020 was not an olympic year due to Covid-19, so 2021\n",
    "should be on the list instead of 2020. Use if statement inside comprehension expression."
   ]
  },
  {
   "cell_type": "code",
   "execution_count": null,
   "id": "e7fe0a2a",
   "metadata": {},
   "outputs": [],
   "source": [
    "# TODO a and b"
   ]
  },
  {
   "cell_type": "markdown",
   "id": "56170d72",
   "metadata": {},
   "source": [
    "# Exercise 4 Create a cows and bull program (Mastermind)\n",
    "\n",
    "Cows and bulls is a guessing game, where you try to guess a 4 digit number. It's like the boardgame Mastermind but with numbers instead of colors. A bull is a the correct position for the number and a cow means the digit is found in the number, but the position is not correct.\n",
    "\n",
    "* a) Create a variable called number_to_guess - it should be a random number between 0 and 9999 and save it in a string, where you prefix it with 0's if it is only a 1,2 or 3 digit number. You can use f'{number:04}' for this\n",
    "* b) Let the user input a guess and save it in a variable called guess. \n",
    "* c) Foreach digit/character in the guess - check whether it matches or is found in the number_to_guess. Print out a message to the user which states e.g  1 cow and 2 bulls\n",
    "* d) Surround your code with a while loop until the user guesses the number\n",
    "* e) You may add extra help for the user in the program - you can write a  pattern to show which numbers are correct/in the code like this: \n",
    "-XOO\n",
    "where - means - not in the number\n",
    "X means correct\n",
    "O means the digit is in the number, but at another position"
   ]
  },
  {
   "cell_type": "code",
   "execution_count": null,
   "id": "08861743",
   "metadata": {},
   "outputs": [],
   "source": [
    "# Todo a to e"
   ]
  },
  {
   "cell_type": "markdown",
   "id": "249892d1",
   "metadata": {},
   "source": [
    "# Exercise 5 Try-except logic\n",
    "\n",
    "Consider your code and add a try-except logic around codelines, which may result in an error if something unexpected happens. Study this link to see the syntax https://docs.python.org/3/tutorial/errors.html "
   ]
  }
 ],
 "metadata": {
  "kernelspec": {
   "display_name": "Python 3",
   "language": "python",
   "name": "python3"
  },
  "language_info": {
   "codemirror_mode": {
    "name": "ipython",
    "version": 3
   },
   "file_extension": ".py",
   "mimetype": "text/x-python",
   "name": "python",
   "nbconvert_exporter": "python",
   "pygments_lexer": "ipython3",
   "version": "3.11.1"
  }
 },
 "nbformat": 4,
 "nbformat_minor": 5
}
