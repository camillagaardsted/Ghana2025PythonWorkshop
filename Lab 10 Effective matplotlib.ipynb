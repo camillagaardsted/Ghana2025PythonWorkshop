{
 "cells": [
  {
   "cell_type": "markdown",
   "id": "b5d6b2ca",
   "metadata": {},
   "source": [
    "# Lab 10 Effective matplotlib\n",
    "\n",
    "Follow the guide here step by step \n",
    "\n",
    "\n",
    "https://pbpython.com/effective-matplotlib.html"
   ]
  }
 ],
 "metadata": {
  "language_info": {
   "name": "python"
  }
 },
 "nbformat": 4,
 "nbformat_minor": 5
}
