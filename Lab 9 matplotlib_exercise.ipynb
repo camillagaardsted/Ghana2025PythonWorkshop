{
 "cells": [
  {
   "cell_type": "markdown",
   "id": "03d61e02",
   "metadata": {},
   "source": [
    "## Module 3 Matplotlib Exercises"
   ]
  },
  {
   "cell_type": "markdown",
   "id": "344de572",
   "metadata": {},
   "source": [
    "## 🎨 Creating a Figure with One Axes using `subplots`\n",
    "\n",
    "The `subplots()` function in Matplotlib is a convenient way to create a figure and one or more subplots (axes)."
   ]
  },
  {
   "cell_type": "code",
   "execution_count": null,
   "id": "f8659038",
   "metadata": {},
   "outputs": [],
   "source": [
    "import matplotlib.pyplot as plt\n",
    "\n",
    "# Create a figure and a single subplot\n",
    "# Notice you get two objects here - fig and ax\n",
    "# fig is the Figure\n",
    "# ax is the Axes - we only have one Axes here\n",
    "fig, ax = plt.subplots()\n",
    "ax.plot([1, 2, 3], [1, 4, 9])\n",
    "ax.set_title(\"Simple Plot\")"
   ]
  },
  {
   "cell_type": "markdown",
   "id": "c31eeb5e",
   "metadata": {},
   "source": [
    "## ⚙️ Parameters of `subplots`\n",
    "\n",
    "The `subplots()` function accepts several parameters. You can study them here [matplotlib.pyplot.subplots](https://matplotlib.org/stable/api/_as_gen/matplotlib.pyplot.subplots.html#matplotlib.pyplot.subplots):\n",
    "- `nrows`, `ncols`: Number of rows and columns of subplots.\n",
    "- `figsize`: Size of the figure in inches.\n",
    "- `sharex`, `sharey`: Share x/y axis among subplots.\n",
    "- `fig_kwargs`: All additioal keyword arguments are passed to pyplot.figure e.g. layout is not there but is handled via kwargs\n",
    "- `layout`: Layout engine (`'constrained'`, `'tight'`, `'compressed'`, `'none'`)\n",
    "\n",
    "\n",
    "\n",
    "Notice that layout is not mentioned directly as a parameter for subplots. It's a parameter for the Figure and therefore handled via the **fig_kw parameter for subplots. Follow the link [pyplot.figure](https://matplotlib.org/stable/api/_as_gen/matplotlib.pyplot.figure.html#matplotlib.pyplot.figure) in the documentation for subplots.\n",
    "\n",
    "Let's see an example:"
   ]
  },
  {
   "cell_type": "code",
   "execution_count": null,
   "id": "5c26a090",
   "metadata": {},
   "outputs": [],
   "source": [
    "fig, axs = plt.subplots(nrows=1, ncols=2, figsize=(10, 4), layout='constrained')\n",
    "axs[0].plot([1, 2, 3], [1, 4, 9])\n",
    "axs[0].set_title(\"Left Plot\")\n",
    "axs[1].plot([1, 2, 3], [9, 4, 1])\n",
    "axs[1].set_title(\"Right Plot\")\n"
   ]
  },
  {
   "cell_type": "markdown",
   "id": "c9bf783d",
   "metadata": {},
   "source": [
    "## 🆚 OOP vs Pyplot Interface\n",
    "\n",
    "Matplotlib supports two interfaces:\n",
    "- **Pyplot (Implicit)**: Uses global state.\n",
    "- **OOP (Explicit)**: Uses objects directly.\n",
    "\n",
    "### Pyplot Way (Implicit)"
   ]
  },
  {
   "cell_type": "code",
   "execution_count": null,
   "id": "4a0e5772",
   "metadata": {},
   "outputs": [],
   "source": [
    "\n",
    "import matplotlib.pyplot as plt\n",
    "plt.figure(figsize=(8, 6))\n",
    "# notice we use subplot here and not subplots - this one adds a Axes to the current figure\n",
    "plt.subplot(2, 2, 1)\n",
    "plt.plot([1, 2, 3], [1, 2, 3])\n",
    "plt.title(\"Linear\")\n",
    "plt.subplot(2, 2, 2)\n",
    "plt.plot([1, 2, 3], [1, 4, 9])\n",
    "plt.title(\"Quadratic\")\n",
    "\n"
   ]
  },
  {
   "cell_type": "markdown",
   "id": "f1227894",
   "metadata": {},
   "source": [
    "### OOP Way (Explicit)"
   ]
  },
  {
   "cell_type": "code",
   "execution_count": null,
   "id": "dc516dcb",
   "metadata": {},
   "outputs": [],
   "source": [
    "fig, axs = plt.subplots(1, 2, figsize=(8, 4))\n",
    "axs[0].plot([1, 2, 3], [1, 2, 3])\n",
    "axs[0].set_title(\"Linear\")\n",
    "axs[1].plot([1, 2, 3], [1, 4, 9])\n",
    "axs[1].set_title(\"Quadratic\")\n"
   ]
  },
  {
   "cell_type": "markdown",
   "id": "871f011d",
   "metadata": {},
   "source": [
    "## 🎨 Figure Parameters in Matplotlib\n",
    "\n",
    "When creating a figure using `plt.figure()` or `plt.subplots()`, you can customize its appearance using several parameters:\n",
    "\n",
    "- **`figsize`**: Tuple (width, height) in inches.\n",
    "- **`facecolor`**: Background color of the figure.\n",
    "- **`edgecolor`**: Color of the border around the figure.\n",
    "- **`linewidth`**: Width of the edge line.\n",
    "- **`frameon`**: Whether to draw the frame around the figure.\n",
    "- **`layout`**: Layout engine to use (e.g., `'constrained'`, `'tight'`).\n",
    "\n",
    "These parameters help control the aesthetics and layout of your plots."
   ]
  },
  {
   "cell_type": "code",
   "execution_count": null,
   "id": "9296da08",
   "metadata": {},
   "outputs": [],
   "source": [
    "fig, ax = plt.subplots(\n",
    "    figsize=(8, 4),\n",
    "    facecolor='lightgray',\n",
    "    edgecolor='blue',\n",
    "    linewidth=3,\n",
    "    frameon=True,\n",
    "    layout='constrained'\n",
    ")\n",
    "\n",
    "ax.plot([1, 2, 3], [1, 4, 9], label='Example Line')\n",
    "ax.set_title(\"Customized Figure\")\n",
    "ax.set_xlabel(\"X-axis\")\n",
    "ax.set_ylabel(\"Y-axis\")\n",
    "ax.legend()\n",
    "plt.show()"
   ]
  },
  {
   "cell_type": "markdown",
   "id": "3bbfe447",
   "metadata": {},
   "source": [
    "## 🧠 Exercises\n",
    "\n",
    "Try these exercises to reinforce your understanding:\n",
    "\n",
    "### Exercise 1: Modify Subplot Parameters\n",
    "Create a 2x3 grid of subplots with different plots. Use the OOP style. Add a title to each plot. Experiment with the layout option to avoid overlapping text. \n"
   ]
  },
  {
   "cell_type": "code",
   "execution_count": null,
   "id": "91359031",
   "metadata": {},
   "outputs": [],
   "source": [
    "# TODO Create a 2x3 grid of subplots with different plots. Use the OOP style \n",
    "\n",
    "\n"
   ]
  },
  {
   "cell_type": "markdown",
   "id": "5aff1a2c",
   "metadata": {},
   "source": [
    "\n",
    "### Exercise 2: OOP vs Pyplot\n",
    "Recreate the same plot with the 2x3 grid as above but now using the implicit pyplot interface. You have examples of both styles in this notebook if you scroll up."
   ]
  },
  {
   "cell_type": "code",
   "execution_count": null,
   "id": "16ff8a73",
   "metadata": {},
   "outputs": [],
   "source": [
    "\n",
    "\n"
   ]
  },
  {
   "cell_type": "markdown",
   "id": "e574c9d1",
   "metadata": {},
   "source": [
    "# Exercise 3 Explore the Annotations possibilities in matplotlib\n",
    "\n",
    "Follow along the steps in this article:\n",
    "https://matplotlib.org/stable/users/explain/text/annotations.html"
   ]
  },
  {
   "cell_type": "markdown",
   "id": "3a88935a",
   "metadata": {},
   "source": [
    "## Extra Exercise\n",
    "\n",
    "Create a new file called matplotlib_demo_exercise.py and copy the code from the 3 exercises above. Try to run the script in VSCode. Remember to call plt.show() to display the figures."
   ]
  },
  {
   "cell_type": "markdown",
   "id": "3ecb556b",
   "metadata": {},
   "source": [
    "## Extra\n",
    "Go back to the documentation for the function [pyplot.subplots](https://matplotlib.org/stable/api/_as_gen/matplotlib.pyplot.subplots.html#matplotlib.pyplot.subplots). Notice all the examples you have at the bottom of that article\n",
    "You may also study the examples here [Subplots, axes and figures](https://matplotlib.org/stable/gallery/subplots_axes_and_figures/index.html)"
   ]
  }
 ],
 "metadata": {
  "kernelspec": {
   "display_name": ".venv",
   "language": "python",
   "name": "python3"
  },
  "language_info": {
   "codemirror_mode": {
    "name": "ipython",
    "version": 3
   },
   "file_extension": ".py",
   "mimetype": "text/x-python",
   "name": "python",
   "nbconvert_exporter": "python",
   "pygments_lexer": "ipython3",
   "version": "3.13.2"
  }
 },
 "nbformat": 4,
 "nbformat_minor": 5
}
