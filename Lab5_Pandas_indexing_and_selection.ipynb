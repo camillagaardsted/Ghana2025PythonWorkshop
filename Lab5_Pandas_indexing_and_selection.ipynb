{
 "cells": [
  {
   "cell_type": "markdown",
   "id": "3272a37d",
   "metadata": {},
   "source": [
    "## Lab 5 Pandas indexing and seletion\n",
    "\n",
    "# Exercise 1 Series\n",
    "\n",
    "a) Create a Series object with the following code: "
   ]
  },
  {
   "cell_type": "code",
   "execution_count": null,
   "id": "2eff99ca",
   "metadata": {},
   "outputs": [],
   "source": [
    "import pandas as pd\n",
    "s1=pd.Series([2023,2024,2025],name='year',index=['a','b','c'])\n",
    "s1"
   ]
  },
  {
   "cell_type": "markdown",
   "id": "b111d942",
   "metadata": {},
   "source": [
    "b) Examine the dtype, index, size, shape. They are all properties for a Series and accessible with the . (dot) notation e.g. s1.index. Also try to print the Series - you will see the index and data and Name and dtype."
   ]
  },
  {
   "cell_type": "code",
   "execution_count": null,
   "id": "d7389048",
   "metadata": {},
   "outputs": [],
   "source": [
    "# todo"
   ]
  },
  {
   "cell_type": "markdown",
   "id": "157157fc",
   "metadata": {},
   "source": [
    "c) Use the three different index methods ([], loc, iloc) to select the first element"
   ]
  },
  {
   "cell_type": "code",
   "execution_count": null,
   "id": "2bc71ba6",
   "metadata": {},
   "outputs": [],
   "source": []
  },
  {
   "cell_type": "markdown",
   "id": "182d5b31",
   "metadata": {},
   "source": [
    "d) Use the 3 index methods with slicing syntax to select the last two elements"
   ]
  },
  {
   "cell_type": "code",
   "execution_count": null,
   "id": "8e15b474",
   "metadata": {},
   "outputs": [],
   "source": []
  },
  {
   "cell_type": "markdown",
   "id": "fd104ec9",
   "metadata": {},
   "source": [
    "e) Assign the first element the value 2022"
   ]
  },
  {
   "cell_type": "code",
   "execution_count": null,
   "id": "40ede84c",
   "metadata": {},
   "outputs": [],
   "source": []
  },
  {
   "cell_type": "markdown",
   "id": "d48937ff",
   "metadata": {},
   "source": [
    "f) Add 1 to the last two elements in the Series"
   ]
  },
  {
   "cell_type": "code",
   "execution_count": null,
   "id": "ece6289a",
   "metadata": {},
   "outputs": [],
   "source": [
    "s1.loc['b':'c']+=1"
   ]
  },
  {
   "cell_type": "markdown",
   "id": "3a5b8638",
   "metadata": {},
   "source": [
    "g) Select only the years above 2024 with a filtering syntax e.g. s1>2024 inside the [] indexing method"
   ]
  },
  {
   "cell_type": "code",
   "execution_count": null,
   "id": "66af29ec",
   "metadata": {},
   "outputs": [],
   "source": [
    "s1[s1>2024]"
   ]
  },
  {
   "cell_type": "markdown",
   "id": "1ac8f479",
   "metadata": {},
   "source": [
    "# Exercise 2 Working with a DataFrame\n",
    "\n",
    "a) Create the following DataFrame"
   ]
  },
  {
   "cell_type": "code",
   "execution_count": null,
   "id": "89f29439",
   "metadata": {},
   "outputs": [],
   "source": [
    "import numpy as np\n",
    "\n",
    "df=pd.DataFrame(np.arange(1,43).reshape(6,7),columns=list('ABCDEFG'))\n",
    "df"
   ]
  },
  {
   "cell_type": "markdown",
   "id": "45a81e6b",
   "metadata": {},
   "source": [
    "b) Examine the properties for the DataFrame. You can use the info method or you can use the properties directly like columns, index, shape, size, dtypes etc "
   ]
  },
  {
   "cell_type": "code",
   "execution_count": null,
   "id": "b215fa5e",
   "metadata": {},
   "outputs": [],
   "source": [
    "df.columns"
   ]
  },
  {
   "cell_type": "markdown",
   "id": "c0f72e5e",
   "metadata": {},
   "source": [
    "c) Select the first two columns and the first 3 rows using the iloc method"
   ]
  },
  {
   "cell_type": "code",
   "execution_count": null,
   "id": "6a807d72",
   "metadata": {},
   "outputs": [],
   "source": []
  },
  {
   "cell_type": "markdown",
   "id": "0bb6d9b7",
   "metadata": {},
   "source": [
    "d) Select the first two columns and the first 3 rows using the loc method"
   ]
  },
  {
   "cell_type": "code",
   "execution_count": null,
   "id": "a74375c6",
   "metadata": {},
   "outputs": [],
   "source": []
  },
  {
   "cell_type": "markdown",
   "id": "689065f7",
   "metadata": {},
   "source": [
    "e) Add a column called 'H' to the DataFrame. It should be column E divided by column C"
   ]
  },
  {
   "cell_type": "code",
   "execution_count": null,
   "id": "5bdb199c",
   "metadata": {},
   "outputs": [],
   "source": []
  },
  {
   "cell_type": "markdown",
   "id": "0f864b9e",
   "metadata": {},
   "source": [
    "f) Select the rows from the DataFrame where column C is above 15. Use the [] filter notation for this. "
   ]
  },
  {
   "cell_type": "code",
   "execution_count": null,
   "id": "bd1cafd6",
   "metadata": {},
   "outputs": [],
   "source": [
    "df[(df['C']>15) & (df['A']%2==0)]"
   ]
  },
  {
   "cell_type": "markdown",
   "id": "340f3451",
   "metadata": {},
   "source": [
    "g) Combine the filter C above 15 with another requirement: A must be an even number. Remember you must use & and parenthesis and not the classic and in Python.   "
   ]
  },
  {
   "cell_type": "code",
   "execution_count": null,
   "id": "386b95ba",
   "metadata": {},
   "outputs": [],
   "source": []
  },
  {
   "cell_type": "markdown",
   "id": "c3f097f1",
   "metadata": {},
   "source": [
    "h) Make the same filter as above, but use the query method instead. Lookup the syntax on the pandas documentation website if you are in doubt."
   ]
  },
  {
   "cell_type": "code",
   "execution_count": null,
   "id": "528f0ee2",
   "metadata": {},
   "outputs": [],
   "source": [
    "df.query(\"A>15 and C%2==0\")"
   ]
  }
 ],
 "metadata": {
  "kernelspec": {
   "display_name": ".venv",
   "language": "python",
   "name": "python3"
  },
  "language_info": {
   "codemirror_mode": {
    "name": "ipython",
    "version": 3
   },
   "file_extension": ".py",
   "mimetype": "text/x-python",
   "name": "python",
   "nbconvert_exporter": "python",
   "pygments_lexer": "ipython3",
   "version": "3.11.1"
  }
 },
 "nbformat": 4,
 "nbformat_minor": 5
}
