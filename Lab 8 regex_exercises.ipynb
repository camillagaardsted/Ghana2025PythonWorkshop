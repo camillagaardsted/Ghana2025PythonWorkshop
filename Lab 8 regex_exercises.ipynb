{
 "cells": [
  {
   "cell_type": "markdown",
   "id": "8602988a",
   "metadata": {},
   "source": [
    "# Regular Expressions (Regex) Exercises\n",
    "This notebook contains exercises to help you learn and practice different symbols and codes used in regular expressions in Python.\n",
    "\n",
    "**Instructions:** Try to solve each exercise using Python's `re` module. Answers are not provided so you can practice and verify your solutions independently."
   ]
  },
  {
   "cell_type": "code",
   "execution_count": null,
   "id": "6fe243a8",
   "metadata": {},
   "outputs": [],
   "source": [
    "import re"
   ]
  },
  {
   "cell_type": "markdown",
   "id": "606596db",
   "metadata": {},
   "source": [
    "## Basic Matching\n",
    "1. Write a regex to match the word 'cat' in a sentence.\n",
    "2. Write a regex to match any three-letter word ending in 'at'.\n",
    "3. Write a regex to match the word 'dog' only if it appears at the beginning of a string."
   ]
  },
  {
   "cell_type": "markdown",
   "id": "18b43a0c",
   "metadata": {},
   "source": [
    "## Character Classes\n",
    "4. Write a regex to match any digit.\n",
    "5. Write a regex to match any lowercase letter.\n",
    "6. Write a regex to match any character that is not a digit."
   ]
  },
  {
   "cell_type": "markdown",
   "id": "a5b47ef5",
   "metadata": {},
   "source": [
    "## Quantifiers\n",
    "7. Write a regex to match one or more digits.\n",
    "8. Write a regex to match zero or more occurrences of the letter 'a'.\n",
    "9. Write a regex to match exactly three digits."
   ]
  },
  {
   "cell_type": "markdown",
   "id": "d4ed71f0",
   "metadata": {},
   "source": [
    "## Anchors\n",
    "10. Write a regex to match a string that starts with 'Hello'.\n",
    "11. Write a regex to match a string that ends with 'world'.\n",
    "12. Write a regex to match a string that contains only digits from start to end."
   ]
  },
  {
   "cell_type": "markdown",
   "id": "c0ecf010",
   "metadata": {},
   "source": [
    "## Groups and Alternation\n",
    "13. Write a regex to match either 'cat' or 'dog'.\n",
    "14. Write a regex to match 'gray' or 'grey'.\n",
    "15. Write a regex to match a date in the format 'dd-mm-yyyy'."
   ]
  },
  {
   "cell_type": "markdown",
   "id": "d7fcb5d0",
   "metadata": {},
   "source": [
    "## Special Characters\n",
    "16. Write a regex to match a literal dot (.).\n",
    "17. Write a regex to match a backslash (\\).\n",
    "18. Write a regex to match a tab character."
   ]
  },
  {
   "cell_type": "markdown",
   "id": "73a670ac",
   "metadata": {},
   "source": [
    "## Lookahead and Lookbehind\n",
    "19. Write a regex to match a word followed by a digit using positive lookahead.\n",
    "20. Write a regex to match a digit only if it is preceded by a word using positive lookbehind."
   ]
  },
  {
   "cell_type": "markdown",
   "id": "8a5629d9",
   "metadata": {},
   "source": [
    "## Flags\n",
    "21. Write a regex to match 'hello' case-insensitively.\n",
    "22. Write a regex to match a multiline string where each line starts with a digit."
   ]
  },
  {
   "cell_type": "markdown",
   "id": "1ad27d6a",
   "metadata": {},
   "source": [
    "## Substitution\n",
    "23. Write a regex to replace all digits in a string with '#' symbol.\n",
    "24. Write a regex to remove all whitespace characters from a string."
   ]
  },
  {
   "cell_type": "markdown",
   "id": "c31efe98",
   "metadata": {},
   "source": [
    "## Splitting\n",
    "25. Write a regex to split a string by commas.\n",
    "26. Write a regex to split a string by one or more whitespace characters."
   ]
  }
 ],
 "metadata": {},
 "nbformat": 4,
 "nbformat_minor": 5
}
