{
 "cells": [
  {
   "cell_type": "markdown",
   "id": "b1c52947",
   "metadata": {},
   "source": [
    "## Lab 3 Virtual environments\n",
    "\n",
    "# Exercise 1 Installing Python from python.org\n",
    "a) Download Python 3.13.7 from Python.org\n",
    "\n",
    "b) Run the python-3.13.7-amd64.exe installation file. Notice it tells you where it will install Python into. Choose the custom installation so you will see it will install pip and the py launcer.\n",
    "\n",
    "c) Copy the file path in the screen, where it tells you where it will install python\n",
    "It should be something like C:\\Users\\username\\AppData\\Local\\Programs\\Python\\Python313\n",
    "\n",
    "d) When Python has been installed - go to that folder in the file explorer\n",
    "\n",
    "e) Notice python.exe is there and pip.exe is in the script folder"
   ]
  },
  {
   "cell_type": "markdown",
   "id": "acb43928",
   "metadata": {},
   "source": [
    "# Exercise 2 VS Code and choosing the Pyhon interpreter\n",
    "\n",
    "1) Download VS Code from https://code.visualstudio.com/Download if you don't have it already on your machine\n",
    "\n",
    "2)\tCreate a folder on your C drive called PythonCourse.\n",
    "\n",
    "3)\tWe will use VS Code as our Python IDE in these exercises. Open the Visual Studio Code application (Click on the Windows button and start typing vis – then the application will hopefully show up).\n",
    "\n",
    "4)\tClick on the Extensions icon in the left vertical panel of VS Code. Search for Python and install the extension if it is not installed already.\n",
    "\n",
    "5)\tGo back to the Explorer in VS Code (first item in left vertical panel) and create the following subfolders in your PythonCourse folder. (You can drag and drop if you by mistake create a folder inside another folder):\n",
    "* TuesdayProject\n",
    "* BirdgameProject\n",
    "* PandasProject\n",
    "\n",
    "6)\tCreate a new file in your TuesdayProject folder called main.py with the following lines:\n"
   ]
  },
  {
   "cell_type": "code",
   "execution_count": null,
   "id": "6701df55",
   "metadata": {},
   "outputs": [],
   "source": [
    "# main.py in the TuesdayProject folder\n",
    "import sys\n",
    "print('Hello Python from VS Code editor!')\n",
    "print('Version and executable',sys.version,sys.executable)\n"
   ]
  },
  {
   "cell_type": "markdown",
   "id": "bf15d83d",
   "metadata": {},
   "source": [
    "7)\tTest that your newly installed Python interpreter works from VS Code by running your main.py script. Run your script using F5. Select the Python 3.13 interpreter.\n",
    "8)\tRun the script again – this time with the Anaconda 3.11.7 interpreter. You can select the interpreter in the bottom right corner.\n",
    "9)\tWrite a function in your main.py file called is_leap_year. The function should take a year as input and return a bool value whether the year is a leap year (skudår) or not. Every 4th year is a leap year and 2024 was a leap year. This means if year is divisible by 4 – it’s a leap year. Tip: Use the % (modulo) operator to get the remainder when you divide by 4.\n",
    "10)\tExtend your function above so it includes the special rule: A century is only a leap year if it is divisible by 400 e.g. 1900 was not a leap year, but 2000 was. It’s a famous bug in Excel that it regards 1900 as a leap year.\n",
    "11)\tTest your function to print out years between 1970 and current year and show whether is was a leap year or not e.g.\n",
    "1970 True\n",
    "1971 False\n",
    "1972 False\n",
    "…\n",
    "2025 False\n",
    "\n"
   ]
  },
  {
   "cell_type": "markdown",
   "id": "c14009ce",
   "metadata": {},
   "source": [
    "# Exercise 3 Creating a virtual environment in VS Code\n",
    "\n",
    "In this exercise we will prepare a new Python virtual environment for a project where the pandas package is required.\n",
    "\n",
    "VS Code supports virtual environments via conda or venv. We will use venv since it’s free and included in a standard Python installation.\n",
    "\n",
    "1)\tReopen VS Code so your pandasProject folder in VSCode is the main folder\n",
    "2)\tInstall the Python Environment Manager extension (recently deprecated) or the Python Environments (new from Microsoft) extension following the guidance of your instructor.\n",
    "It's actually included as default now, when you install the python extension. So you may already have it - if you installed the python extension earlier in this lab.\n",
    "3)\tClick on the Python icon in VS Code in the left vertical pane.\n",
    "If the python icon is not there you need to add \"python.useEnvironmentsExtension\": true to your user profile in VS Code. Type Open user settings in the command-palette in VS Code. Edit the json file and add the setting in the list of settings.\n",
    "4)\tCreate a new venv environment via the + icon to the right of the Venv folder under GLOBAL ENVIRONMENTS\n",
    "5)\tPick your global Python interpreter e.g Python 3.13.x from the box that pops up. Wait for the creation of your environment.\n",
    "6)\tYour new environment will now be visible as a .venv (3.13.x) folder under Venv. You will also find a .venv folder in your pandasProject folder in the Explorer. Browse the .venv folder to see that pip.exe is found in the Scripts subfolder.\n",
    "7)\tClick on the Shell command icon for your newly created .venv\n",
    "8)\tType pip install pandas This will install pandas in your environment.\n",
    "9)\tStudy the Packages which have now been installed in your workspace environment.\n",
    "10)\tRun the command pip freeze in the Shell and notice the version number for each package.\n",
    "11)\tType pip install matplotlib. This will install matplotlib and any dependant packages.\n",
    "12)\tRun pip freeze again and study the list of packages.\n",
    "13)\tNow run pip freeze > requirements.txt in the Shell. This will generate a text file in your current working directory with the output from the pip freeze command. (Greater than just means pipe to text.file)\n",
    "14)\tLook at your requirements file in the explorer. \n",
    "\n",
    "\n",
    "\n",
    "\n",
    "\n"
   ]
  }
 ],
 "metadata": {
  "language_info": {
   "name": "python"
  }
 },
 "nbformat": 4,
 "nbformat_minor": 5
}
